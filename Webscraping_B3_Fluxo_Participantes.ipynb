{
  "nbformat": 4,
  "nbformat_minor": 0,
  "metadata": {
    "colab": {
      "name": "Webscraping_B3_Fluxo_Participantes.ipynb",
      "private_outputs": true,
      "provenance": [],
      "authorship_tag": "ABX9TyNTsAXSq7ns2AUt93C52G8p",
      "include_colab_link": true
    },
    "kernelspec": {
      "name": "python3",
      "display_name": "Python 3"
    },
    "language_info": {
      "name": "python"
    }
  },
  "cells": [
    {
      "cell_type": "markdown",
      "metadata": {
        "id": "view-in-github",
        "colab_type": "text"
      },
      "source": [
        "<a href=\"https://colab.research.google.com/github/vhppacheco/Webscraping/blob/main/Webscraping_B3_Fluxo_Participantes.ipynb\" target=\"_parent\"><img src=\"https://colab.research.google.com/assets/colab-badge.svg\" alt=\"Open In Colab\"/></a>"
      ]
    },
    {
      "cell_type": "markdown",
      "source": [
        "# 1. Web Crawling da página de Fluxo por Participantes da B3"
      ],
      "metadata": {
        "id": "WyOvT14oqvVG"
      }
    },
    {
      "cell_type": "markdown",
      "source": [
        "#### A página de foco desse projeto é a [Volume Total Acumulado B3](https://www.b3.com.br/pt_br/market-data-e-indices/servicos-de-dados/market-data/consultas/mercado-a-vista/participacao-dos-investidores/volume-total-acumulado/), que contém as informações de volumes dos fluxos de compra e venda por cada tipo de investidor da bolsa. Esses dados são atualizados pela B3 no site diariamente, sendo os dados acumulados mensalmente e com defasagem de 2 dias úteis (D+2, ou seja, os dados de hoje estarão disponíveis no site daqui a 2 dias)."
      ],
      "metadata": {
        "id": "d-co_zGaq0tz"
      }
    },
    {
      "cell_type": "markdown",
      "source": [
        "#### Instalação da Biblioteca Kora, que possibilita utilizar o Selenium de forma simplificada no Google Colab. [Link para acesso ao repositório](https://github.com/korakot/kora/blob/master/kora/selenium.py)"
      ],
      "metadata": {
        "id": "z82bIbG_rCrq"
      }
    },
    {
      "cell_type": "code",
      "metadata": {
        "id": "lpismFuK_hDV"
      },
      "source": [
        "!pip install -q kora"
      ],
      "execution_count": null,
      "outputs": []
    },
    {
      "cell_type": "code",
      "source": [
        "from kora.selenium import wd\n",
        "from time import sleep\n",
        "import os\n",
        "import pandas as pd\n",
        "from datetime import datetime, timedelta\n",
        "from google.colab import data_table\n",
        "\n",
        "import warnings\n",
        "warnings.filterwarnings('ignore')"
      ],
      "metadata": {
        "id": "uNdY_jhWcW1r"
      },
      "execution_count": null,
      "outputs": []
    },
    {
      "cell_type": "code",
      "metadata": {
        "id": "Yy4qsSUm_ous"
      },
      "source": [
        "def fluxo_b3(pause=5):\n",
        "\n",
        "    url = \"https://sistemaswebb3-listados.b3.com.br/investorParticipationPage\"\n",
        "    wd.get(url)\n",
        "    sleep(pause)\n",
        "\n",
        "    wd.find_element_by_link_text(\"Download\").click()\n",
        "    sleep(pause)\n",
        "\n",
        "    #Obtendo do arquivo recém baixado a data de referência dos dados e a incorporando em seu nome para em seguida salvá-lo\n",
        "\n",
        "    arquivos = !ls -1t *.csv\n",
        "    arq_csv = pd.read_csv(arquivos[0],sep='|',encoding='ISO-8859-1',engine='python')\n",
        "    columns = list(arq_csv.head(0))[1]\n",
        "    data_arquivo = columns[0:4]+\"-\"+columns[4:6]+\"-\"+columns[6:8]\n",
        "    data = os.rename(arquivos[0],f\"{data_arquivo}\"+\"-\"+arquivos[0])   \n",
        "    arquivos = !ls -1t *.csv\n",
        "    \n",
        "    return pd.read_csv(arquivos[0],sep='|',skiprows=1,encoding='ISO-8859-1',engine='python')"
      ],
      "execution_count": null,
      "outputs": []
    },
    {
      "cell_type": "code",
      "metadata": {
        "id": "grX9aN0c_x2M"
      },
      "source": [
        "fluxo = fluxo_b3(2)"
      ],
      "execution_count": null,
      "outputs": []
    },
    {
      "cell_type": "code",
      "metadata": {
        "id": "bBANEnkK_5zE"
      },
      "source": [
        "fluxo"
      ],
      "execution_count": null,
      "outputs": []
    }
  ]
}