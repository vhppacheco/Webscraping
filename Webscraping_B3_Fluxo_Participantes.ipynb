{
  "nbformat": 4,
  "nbformat_minor": 0,
  "metadata": {
    "colab": {
      "name": "Webscraping_B3_Fluxo_Participantes.ipynb",
      "private_outputs": true,
      "provenance": [],
      "authorship_tag": "ABX9TyNn9ZKEHdiPevy79B4t7TOJ",
      "include_colab_link": true
    },
    "kernelspec": {
      "name": "python3",
      "display_name": "Python 3"
    },
    "language_info": {
      "name": "python"
    }
  },
  "cells": [
    {
      "cell_type": "markdown",
      "metadata": {
        "id": "view-in-github",
        "colab_type": "text"
      },
      "source": [
        "<a href=\"https://colab.research.google.com/github/vhppacheco/Webscraping/blob/main/Webscraping_B3_Fluxo_Participantes.ipynb\" target=\"_parent\"><img src=\"https://colab.research.google.com/assets/colab-badge.svg\" alt=\"Open In Colab\"/></a>"
      ]
    },
    {
      "cell_type": "code",
      "metadata": {
        "id": "tywff5MLqeNz"
      },
      "source": [
        "pip install selenium"
      ],
      "execution_count": null,
      "outputs": []
    },
    {
      "cell_type": "code",
      "metadata": {
        "id": "lpismFuK_hDV"
      },
      "source": [
        "!pip install -q kora"
      ],
      "execution_count": null,
      "outputs": []
    },
    {
      "cell_type": "code",
      "metadata": {
        "id": "Yy4qsSUm_ous"
      },
      "source": [
        "from kora.selenium import wd\n",
        "from time import sleep\n",
        "import pandas as pd\n",
        "from google.colab import data_table\n",
        "\n",
        "def fluxo_b3(pause=10):\n",
        "    url = \"https://sistemaswebb3-listados.b3.com.br/investorParticipationPage\"\n",
        "    wd.get(url)\n",
        "    sleep(pause)\n",
        "\n",
        "    wd.find_element_by_link_text(\"Download\").click()\n",
        "    sleep(pause)\n",
        "\n",
        "    arquivos = !ls -1t *.csv\n",
        "    return pd.read_csv(arquivos[0],sep='|',skiprows=1,encoding='ISO-8859-1',engine='python')"
      ],
      "execution_count": null,
      "outputs": []
    },
    {
      "cell_type": "code",
      "metadata": {
        "id": "UiCGsZonBf2u"
      },
      "source": [
        "arquivos = !ls -1t *.csv\n",
        "arquivos"
      ],
      "execution_count": null,
      "outputs": []
    },
    {
      "cell_type": "code",
      "metadata": {
        "id": "grX9aN0c_x2M"
      },
      "source": [
        "fluxo = fluxo_b3(2)"
      ],
      "execution_count": null,
      "outputs": []
    },
    {
      "cell_type": "code",
      "metadata": {
        "id": "bBANEnkK_5zE"
      },
      "source": [
        "fluxo"
      ],
      "execution_count": null,
      "outputs": []
    }
  ]
}